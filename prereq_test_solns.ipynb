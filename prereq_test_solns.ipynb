{
  "cells": [
    {
      "cell_type": "code",
      "execution_count": 11,
      "metadata": {
        "trusted": true
      },
      "outputs": [],
      "source": [
        "import pandas as pd\n",
        "from matplotlib import pyplot as plt\n",
        "import numpy as np\n",
        "from functools import reduce"
      ]
    },
    {
      "cell_type": "markdown",
      "metadata": {},
      "source": [
        "### List Operations and Basic Statistics:"
      ]
    },
    {
      "cell_type": "raw",
      "metadata": {},
      "source": [
        "Create a list of the first 20 natural numbers.\n",
        "Compute the sum of all even numbers in the list.\n",
        "Compute the product of all odd numbers in the list.\n",
        "Calculate the mean, median, and standard deviation of the list."
      ]
    },
    {
      "cell_type": "code",
      "execution_count": null,
      "metadata": {
        "trusted": true
      },
      "outputs": [],
      "source": [
        "ls = list(range(1,21))\n",
        "s = reduce(lambda a,b : a+b, [i for i in ls if i%2==0])\n",
        "prod = 1\n",
        "for i in ls:\n",
        "    if(i%2):\n",
        "        prod*=i\n",
        "mean = np.mean(ls)\n",
        "median = np.median(ls)\n",
        "std = np.std(ls)\n",
        "print(ls,s,prod,mean,median,std,sep=\"\\n\")"
      ]
    },
    {
      "cell_type": "markdown",
      "metadata": {},
      "source": [
        "### Mutable vs. Immutable Data Types"
      ]
    },
    {
      "cell_type": "raw",
      "metadata": {},
      "source": [
        "Mutable data types are those which can be manipulated/changed whereas immutable cannot be changed once initialised. Strings and tuples are immutable. The immutability of strings is a headache when we want to do changes in characters. Ints, floats, lists etc. are mutable."
      ]
    },
    {
      "cell_type": "markdown",
      "metadata": {},
      "source": [
        "### Fibonacci Sequence"
      ]
    },
    {
      "cell_type": "code",
      "execution_count": null,
      "metadata": {
        "trusted": true
      },
      "outputs": [],
      "source": [
        "def fib(n): # here i assume a_1 = 1 and a_2 = 2\n",
        "    a = 0\n",
        "    b = 1\n",
        "    ls = []\n",
        "    while(n):\n",
        "        temp = b\n",
        "        b+=a\n",
        "        a = temp\n",
        "        ls.append(b)\n",
        "        n-=1\n",
        "    return ls"
      ]
    },
    {
      "cell_type": "code",
      "execution_count": null,
      "metadata": {
        "trusted": true
      },
      "outputs": [],
      "source": [
        "x = range(1,21)\n",
        "y = fib(20)\n",
        "plt.plot(x,y,label=\"Nth fibonacci no.\",marker='.',mfc='k',markersize=10,mec='k')\n",
        "plt.xticks(ticks=x,labels=x)\n",
        "plt.legend()\n",
        "plt.show()"
      ]
    },
    {
      "cell_type": "markdown",
      "metadata": {},
      "source": [
        "### List Manipulation:"
      ]
    },
    {
      "cell_type": "code",
      "execution_count": null,
      "metadata": {
        "trusted": true
      },
      "outputs": [],
      "source": [
        "ls = [2*i+1 for i in range(1,7)]\n",
        "print(ls)\n",
        "ls[2] = 6\n",
        "# ls.remove(7) doesn't work as ls[2] = 6 changes only occurrence of 7 to 6\n",
        "ls.reverse()\n",
        "mean , median = np.mean(ls),np.median(ls)\n",
        "print(ls,mean,median,sep=\"\\n\")"
      ]
    },
    {
      "cell_type": "markdown",
      "metadata": {},
      "source": [
        "### User Input and Basic Statistics:"
      ]
    },
    {
      "cell_type": "code",
      "execution_count": null,
      "metadata": {
        "trusted": true
      },
      "outputs": [],
      "source": [
        "# ls = [int(i) for i in input.split(',')]  DOESNT work for some reason on my workspace although code works as expected\n",
        "ls = list(np.random.randint(0,101,10))\n",
        "mean = np.mean(ls)\n",
        "minn, maxx  = min(ls), max(ls)"
      ]
    },
    {
      "cell_type": "code",
      "execution_count": null,
      "metadata": {
        "trusted": true
      },
      "outputs": [],
      "source": [
        "plt.hist(ls,edgecolor='k')"
      ]
    },
    {
      "cell_type": "markdown",
      "metadata": {},
      "source": [
        "### Palindrome Check"
      ]
    },
    {
      "cell_type": "code",
      "execution_count": null,
      "metadata": {
        "trusted": true
      },
      "outputs": [],
      "source": [
        "def is_pal(s):\n",
        "    s = s.replace(' ','')\n",
        "    s = s.lower()\n",
        "    if len(s)<=1:\n",
        "        return True\n",
        "    if s[0]==s[-1]:\n",
        "        return is_pal(s[1:-1])\n",
        "    else:\n",
        "        return False\n",
        "print(is_pal(\"A man a plan a canal Panama\"))"
      ]
    },
    {
      "cell_type": "markdown",
      "metadata": {},
      "source": [
        "### Dictionary Operations:"
      ]
    },
    {
      "cell_type": "code",
      "execution_count": null,
      "metadata": {
        "trusted": true
      },
      "outputs": [],
      "source": [
        "student_marks = {\"Alice\": 85,\"Bob\": 92, \"Charlie\": 78, \"David\": 88, \"Eva\": 95, \"Frank\": 67, \"Grace\": 80, \"Helen\": 91, \"Ivy\": 73,\"Jack\": 89}\n",
        "avg = np.mean(list(student_marks.values()))\n",
        "s = np.array(list(student_marks.keys()))\n",
        "print([i for i in s if student_marks[i]>avg])\n",
        "plt.bar(list(student_marks.keys()),list(student_marks.values()))\n",
        "plt.show()"
      ]
    },
    {
      "cell_type": "markdown",
      "metadata": {},
      "source": [
        "### Tuple List Creation:"
      ]
    },
    {
      "cell_type": "code",
      "execution_count": null,
      "metadata": {
        "trusted": true
      },
      "outputs": [],
      "source": [
        "tup = tuple([i**2 for i in range(1,11)])\n",
        "plt.scatter(range(1,11),tup)"
      ]
    },
    {
      "cell_type": "markdown",
      "metadata": {},
      "source": [
        "### Remove Duplicates:"
      ]
    },
    {
      "cell_type": "code",
      "execution_count": null,
      "metadata": {
        "trusted": true
      },
      "outputs": [],
      "source": [
        "ls = list(np.random.randint(-5,5,10))\n",
        "def un(ls):\n",
        "    s = set(ls)\n",
        "    lst = []\n",
        "    for i in ls:\n",
        "        if i in s:\n",
        "            lst.append(i)\n",
        "            s.discard(i)\n",
        "        else:\n",
        "            pass\n",
        "    return lst\n",
        "t = un(ls)\n",
        "mean, median = np.mean(un(ls)), np.median(un(t))"
      ]
    },
    {
      "cell_type": "markdown",
      "metadata": {},
      "source": [
        "### Anagram Finder:"
      ]
    },
    {
      "cell_type": "code",
      "execution_count": null,
      "metadata": {
        "trusted": true
      },
      "outputs": [],
      "source": [
        "s = \"listen\"\n",
        "s = ''.join(sorted(list(s)))\n",
        "ls = [\"enlist\", \"google\", \"inlets\", \"banana\"]\n",
        "res=[]\n",
        "for i in ls:\n",
        "    if(''.join(sorted(list(i)))==s):\n",
        "        res.append(i)\n",
        "print(res)"
      ]
    },
    {
      "cell_type": "code",
      "execution_count": null,
      "metadata": {
        "trusted": true
      },
      "outputs": [],
      "source": [
        "ls = [1,4,3]\n",
        "print(sorted(ls))"
      ]
    },
    {
      "cell_type": "markdown",
      "metadata": {},
      "source": [
        "### Leap Year Finder"
      ]
    },
    {
      "cell_type": "code",
      "execution_count": null,
      "metadata": {
        "trusted": true
      },
      "outputs": [],
      "source": [
        "yr = int(2016)\n",
        "bool = 0\n",
        "if yr%4==0:\n",
        "    bool = 1\n",
        "elif yr%100==0:\n",
        "    bool = 0\n",
        "elif yr%400==0:\n",
        "    bool = 1\n",
        "print(bool)"
      ]
    },
    {
      "cell_type": "markdown",
      "metadata": {},
      "source": [
        "### Grade Calculator"
      ]
    },
    {
      "cell_type": "code",
      "execution_count": null,
      "metadata": {
        "trusted": true
      },
      "outputs": [],
      "source": [
        "gr = int(99)\n",
        "ls = np.arange(0,101,100/5,dtype='int')\n",
        "for i in range(len(ls)-1):\n",
        "    if ls[i]<=gr and ls[i+1]>gr:\n",
        "        print(\"ABCDE\"[::-1][i])"
      ]
    },
    {
      "cell_type": "markdown",
      "metadata": {},
      "source": [
        "### Even or Odd"
      ]
    },
    {
      "cell_type": "code",
      "execution_count": null,
      "metadata": {
        "trusted": true
      },
      "outputs": [],
      "source": [
        "a = int(input())%\n",
        "print((a==0)*\"Even\"+a*\"Odd\")"
      ]
    },
    {
      "cell_type": "markdown",
      "metadata": {},
      "source": [
        "### Normalization"
      ]
    },
    {
      "cell_type": "code",
      "execution_count": null,
      "metadata": {
        "trusted": true
      },
      "outputs": [],
      "source": [
        "# raw = np.array([int(i) for i in input().split()])\n",
        "raw = np.random(\n",
        "s = sum(raw)\n",
        "norm = [float(i)/s for i in raw]\n",
        "norm"
      ]
    },
    {
      "cell_type": "code",
      "execution_count": null,
      "metadata": {
        "trusted": true
      },
      "outputs": [],
      "source": [
        "raw = np.random.random(100)\n",
        "s = sum(raw)\n",
        "norm = [float(i)/s for i in raw]\n",
        "plt.plot(range(len(norm)),sorted(norm),'b.-',label=\"Normalized Curve\",mfc='k',mec='k',markersize=3)\n",
        "plt.show()\n",
        "# plt.plot(range(len(norm)),[np.log(i) for i in sorted(raw)],'k.-',label=\"Raw\")"
      ]
    },
    {
      "cell_type": "markdown",
      "metadata": {},
      "source": [
        "### Basic Stats"
      ]
    },
    {
      "cell_type": "code",
      "execution_count": null,
      "metadata": {
        "trusted": true
      },
      "outputs": [],
      "source": [
        "ls = np.random.randint(-100,100,50)\n",
        "mean,median,std = np.mean(ls),np.median(ls),np.std(ls)\n",
        "plt.boxplot(ls)\n",
        "plt.show()"
      ]
    },
    {
      "cell_type": "markdown",
      "metadata": {},
      "source": [
        "### CSV"
      ]
    },
    {
      "cell_type": "code",
      "execution_count": 22,
      "metadata": {
        "trusted": true
      },
      "outputs": [
        {
          "name": "stdout",
          "output_type": "stream",
          "text": [
            "260\n"
          ]
        },
        {
          "data": {
            "image/png": "[encoded data removed]",
            "text/plain": [
              "<Figure size 640x480 with 1 Axes>"
            ]
          },
          "metadata": {},
          "output_type": "display_data"
        }
      ],
      "source": [
        "import csv\n",
        "def cu_sum(ls):\n",
        "    return [reduce( lambda a,b : a+b , (ls[:i+1])) for i in range(len(ls))]\n",
        "with open(r\"C:\\Users\\jahan\\OneDrive\\Desktop\\csv.csv\",'r') as file:\n",
        "    c = csv.reader(file)\n",
        "    sum =0\n",
        "    ls = [[],[],[]]\n",
        "    for i in c:\n",
        "        sum+=int(i[0])\n",
        "        for j in range(3):\n",
        "            ls[j].append(i[j])\n",
        "    print(sum)\n",
        "    x = range(len(ls[0]))\n",
        "    for i in range(3):\n",
        "        plt.plot(x,cu_sum(ls[i]),'b.-',mfc='k',markersize='10',mec='k')\n",
        "    plt.show()\n",
        "    "
      ]
    },
    {
      "cell_type": "markdown",
      "metadata": {},
      "source": [
        "### Random Num Generator"
      ]
    },
    {
      "cell_type": "code",
      "execution_count": null,
      "metadata": {
        "trusted": true
      },
      "outputs": [],
      "source": [
        "ls = np.random.randint(0,50,100)\n",
        "file = open('file.txt','w+')\n",
        "for i in ls:\n",
        "    file.write(str(i)+'\\n')\n",
        "lst = [int(i) for i in file.readlines()]\n",
        "mean = np.mean(lst)\n",
        "plt.hist(ls,edgecolor='k')\n",
        "plt.show()"
      ]
    },
    {
      "cell_type": "markdown",
      "metadata": {},
      "source": [
        "### Word Count and Frequency"
      ]
    },
    {
      "cell_type": "code",
      "execution_count": null,
      "metadata": {
        "trusted": true
      },
      "outputs": [],
      "source": [
        "from collections import counter\n",
        "with open('file.txt') as file:\n",
        "    string = file.read().split()\n",
        "    num_words = len(string)\n",
        "    dic = counter(string)\n",
        "    max_word = list(dic.items())[0]\n",
        "    plt.bar(dic.items(),dic.keys())"
      ]
    },
    {
      "cell_type": "code",
      "execution_count": null,
      "metadata": {
        "trusted": true
      },
      "outputs": [],
      "source": [
        "### File Operations"
      ]
    },
    {
      "cell_type": "code",
      "execution_count": null,
      "metadata": {
        "trusted": true
      },
      "outputs": [],
      "source": [
        "ls = np.random.randint(0,100,100)\n",
        "with open(input(\"Enter filename\"),'w+') as file:\n",
        "    for i in ls:\n",
        "        file.write(str(i)+\"\\n\")\n",
        "    s = sum([int(i) for i in file.readlines()])    "
      ]
    },
    {
      "cell_type": "markdown",
      "metadata": {},
      "source": [
        "### Word Filtering and Sorting:"
      ]
    },
    {
      "cell_type": "code",
      "execution_count": null,
      "metadata": {
        "trusted": true
      },
      "outputs": [],
      "source": [
        "from collections import Counter\n",
        "s= \"Certainly! Here's a paragraph with a varied frequency of words ranging from The sky above was clear, with the sun shining brightly. Birds flew gracefully, and the breeze gently rustled the leaves. People walked through the park, some laughing, some lost in thought. Dogs played happily near the fountain, and children ran excitedly across the grass. The peaceful atmosphere seemed perfect for relaxing. Some visitors sat on benches, enjoying the warmth of the day, while others took photographs of the vibrant flowers. The park was a place where time slowed, offering a brief escape from the busy world. Everyone seemed to appreciate the calm and natural beauty of the surroundings.In this paragraph, some words appear more than others, reflecting the desired frequency range.\"\n",
        "s = s.split()\n",
        "ls = [i for i in s if len(i)>4]\n",
        "lst = sorted(ls)\n",
        "x = Counter(ls)\n",
        "# plt.bar(list(x.keys()),list(x.values()))\n",
        "plt.barh(list(x.keys()),list(x.values()))\n",
        "plt.yticks(size=5)\n",
        "s = list(set(x.values()))\n",
        "plt.xticks(ticks=s,labels=s)\n",
        "plt.show()"
      ]
    },
    {
      "cell_type": "markdown",
      "metadata": {},
      "source": [
        "### Char Freq"
      ]
    },
    {
      "cell_type": "code",
      "execution_count": null,
      "metadata": {
        "trusted": true
      },
      "outputs": [],
      "source": [
        "from collections import Counter as c\n",
        "def func(s):\n",
        "    s = s.lower()\n",
        "    dic = c(s)\n",
        "    plt.bar(list(dic.keys()),list(dic.values()))\n",
        "    return dic\n"
      ]
    },
    {
      "cell_type": "markdown",
      "metadata": {},
      "source": [
        "### Dictionary Merge"
      ]
    },
    {
      "cell_type": "code",
      "execution_count": null,
      "metadata": {
        "trusted": true
      },
      "outputs": [],
      "source": [
        "d1 = {'a': 10, 'b': 20}\n",
        "d2 = {'b': 5, 'c': 15}\n",
        "x = set(list(d1.keys())+list(d2.keys()))\n",
        "dic = {}\n",
        "for i in x:\n",
        "    dic[i] = d1.get(i,0)+d2.get(i,0)\n"
      ]
    },
    {
      "cell_type": "markdown",
      "metadata": {},
      "source": [
        "### String Operations"
      ]
    },
    {
      "cell_type": "code",
      "execution_count": null,
      "metadata": {
        "trusted": true
      },
      "outputs": [],
      "source": [
        "def is_vow(s):\n",
        "    if s[0].lower() in \"aeiou\":\n",
        "        return True\n",
        "    return False\n",
        "ls = [\"apple\"] * 1 + [\"banana\"] * 2 + [\"cherry\"] * 3 + [\"date\"] * 4 + [\"elderberry\"] * 5\n",
        "longest = reduce(lambda a,b: a*(len(a)>len(b))+b*(len(b)>=len(a)),ls)\n",
        "num_vow = reduce(lambda a,b: a + is_vow(b),[1]+ls)\n",
        "plt.hist([len(i) for i in ls],edgecolor='k')\n",
        "plt.show()"
      ]
    },
    {
      "cell_type": "markdown",
      "metadata": {},
      "source": [
        "### Sort Dictionaries by a key"
      ]
    },
    {
      "cell_type": "code",
      "execution_count": null,
      "metadata": {
        "trusted": true
      },
      "outputs": [],
      "source": [
        "def func(ls,key):\n",
        "    res = []\n",
        "    dic = {}\n",
        "    for i in ls:#ls is list, i is dictionary\n",
        "        try:\n",
        "            dic[i[key]].append(i)\n",
        "        except KeyError:\n",
        "            dic[i[key]] = [i]\n",
        "    for i in sorted(dic.keys()):\n",
        "        res += dic[i]\n",
        "    return res"
      ]
    },
    {
      "cell_type": "code",
      "execution_count": null,
      "metadata": {
        "trusted": true
      },
      "outputs": [],
      "source": [
        "data = [{'name': 'Alice', 'age': 25}, {'name': 'Bob', 'age': 22}]\n",
        "func(data,'age')"
      ]
    },
    {
      "cell_type": "markdown",
      "metadata": {},
      "source": [
        "### Set Operations"
      ]
    },
    {
      "cell_type": "code",
      "execution_count": 5,
      "metadata": {
        "trusted": true
      },
      "outputs": [],
      "source": [
        "from matplotlib_venn import venn2\n",
        "def oper(l1,l2):\n",
        "    l1,l2 = set(l1),set(l2)\n",
        "    return l1.intersection(l2), l1.union(l2),l1.symmetric_difference(l2)\n",
        "venn2((set([1,2,3,4]),set([2,3,6,7])))"
      ]
    }
  ],
  "metadata": {
    "kernelspec": {
      "display_name": "Python 3",
      "language": "python",
      "name": "python3"
    },
    "language_info": {
      "codemirror_mode": {
        "name": "ipython",
        "version": 3
      },
      "file_extension": ".py",
      "mimetype": "text/x-python",
      "name": "python",
      "nbconvert_exporter": "python",
      "pygments_lexer": "ipython3",
      "version": "3.12.8"
    }
  },
  "nbformat": 4,
  "nbformat_minor": 4
}
