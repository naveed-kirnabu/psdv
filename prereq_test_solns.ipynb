{
  "metadata": {
    "kernelspec": {
      "name": "python",
      "display_name": "Python (Pyodide)",
      "language": "python"
    },
    "language_info": {
      "codemirror_mode": {
        "name": "python",
        "version": 3
      },
      "file_extension": ".py",
      "mimetype": "text/x-python",
      "name": "python",
      "nbconvert_exporter": "python",
      "pygments_lexer": "ipython3",
      "version": "3.8"
    }
  },
  "nbformat_minor": 4,
  "nbformat": 4,
  "cells": [
    {
      "cell_type": "code",
      "source": "import pandas as pd\nfrom matplotlib import pyplot as plt\nimport numpy as np\nfrom functools import reduce",
      "metadata": {
        "trusted": true
      },
      "outputs": [
        {
          "name": "stderr",
          "text": "<ipython-input-3-b1957b2be430>:1: DeprecationWarning: \nPyarrow will become a required dependency of pandas in the next major release of pandas (pandas 3.0),\n(to allow more performant data types, such as the Arrow string type, and better interoperability with other libraries)\nbut was not found to be installed on your system.\nIf this would cause problems for you,\nplease provide us feedback at https://github.com/pandas-dev/pandas/issues/54466\n        \n  import pandas as pd\n",
          "output_type": "stream"
        }
      ],
      "execution_count": 3
    },
    {
      "cell_type": "markdown",
      "source": "### List Operations and Basic Statistics:",
      "metadata": {}
    },
    {
      "cell_type": "raw",
      "source": "Create a list of the first 20 natural numbers.\nCompute the sum of all even numbers in the list.\nCompute the product of all odd numbers in the list.\nCalculate the mean, median, and standard deviation of the list.",
      "metadata": {}
    },
    {
      "cell_type": "code",
      "source": "ls = list(range(1,21))\ns = reduce(lambda a,b : a+b, [i for i in ls if i%2==0])\nprod = 1\nfor i in ls:\n    if(i%2):\n        prod*=i\nmean = np.mean(ls)\nmedian = np.median(ls)\nstd = np.std(ls)\nprint(ls,s,prod,mean,median,std,sep=\"\\n\")",
      "metadata": {
        "trusted": true
      },
      "outputs": [],
      "execution_count": null
    },
    {
      "cell_type": "markdown",
      "source": "### Mutable vs. Immutable Data Types",
      "metadata": {}
    },
    {
      "cell_type": "raw",
      "source": "Mutable data types are those which can be manipulated/changed whereas immutable cannot be changed once initialised. Strings and tuples are immutable. The immutability of strings is a headache when we want to do changes in characters. Ints, floats, lists etc. are mutable.",
      "metadata": {}
    },
    {
      "cell_type": "markdown",
      "source": "### Fibonacci Sequence",
      "metadata": {}
    },
    {
      "cell_type": "code",
      "source": "def fib(n): # here i assume a_1 = 1 and a_2 = 2\n    a = 0\n    b = 1\n    ls = []\n    while(n):\n        temp = b\n        b+=a\n        a = temp\n        ls.append(b)\n        n-=1\n    return ls",
      "metadata": {
        "trusted": true
      },
      "outputs": [],
      "execution_count": null
    },
    {
      "cell_type": "code",
      "source": "x = range(1,21)\ny = fib(20)\nplt.plot(x,y,label=\"Nth fibonacci no.\",marker='.',mfc='k',markersize=10,mec='k')\nplt.xticks(ticks=x,labels=x)\nplt.legend()\nplt.show()",
      "metadata": {
        "trusted": true
      },
      "outputs": [],
      "execution_count": null
    },
    {
      "cell_type": "markdown",
      "source": "### List Manipulation:",
      "metadata": {}
    },
    {
      "cell_type": "code",
      "source": "ls = [2*i+1 for i in range(1,7)]\nprint(ls)\nls[2] = 6\n# ls.remove(7) doesn't work as ls[2] = 6 changes only occurrence of 7 to 6\nls.reverse()\nmean , median = np.mean(ls),np.median(ls)\nprint(ls,mean,median,sep=\"\\n\")",
      "metadata": {
        "trusted": true
      },
      "outputs": [],
      "execution_count": null
    },
    {
      "cell_type": "markdown",
      "source": "### User Input and Basic Statistics:",
      "metadata": {}
    },
    {
      "cell_type": "code",
      "source": "# ls = [int(i) for i in input.split(',')]  DOESNT work for some reason on my workspace although code works as expected\nls = list(np.random.randint(0,101,10))\nmean = np.mean(ls)\nminn, maxx  = min(ls), max(ls)",
      "metadata": {
        "trusted": true
      },
      "outputs": [],
      "execution_count": null
    },
    {
      "cell_type": "code",
      "source": "plt.hist(ls,edgecolor='k')",
      "metadata": {
        "trusted": true
      },
      "outputs": [],
      "execution_count": null
    },
    {
      "cell_type": "markdown",
      "source": "### Palindrome Check",
      "metadata": {}
    },
    {
      "cell_type": "code",
      "source": "def is_pal(s):\n    s = s.replace(' ','')\n    s = s.lower()\n    if len(s)<=1:\n        return True\n    if s[0]==s[-1]:\n        return is_pal(s[1:-1])\n    else:\n        return False\nprint(is_pal(\"A man a plan a canal Panama\"))",
      "metadata": {
        "trusted": true
      },
      "outputs": [],
      "execution_count": null
    },
    {
      "cell_type": "markdown",
      "source": "### Dictionary Operations:",
      "metadata": {}
    },
    {
      "cell_type": "code",
      "source": "student_marks = {\"Alice\": 85,\"Bob\": 92, \"Charlie\": 78, \"David\": 88, \"Eva\": 95, \"Frank\": 67, \"Grace\": 80, \"Helen\": 91, \"Ivy\": 73,\"Jack\": 89}\navg = np.mean(list(student_marks.values()))\ns = np.array(list(student_marks.keys()))\nprint([i for i in s if student_marks[i]>avg])\nplt.bar(list(student_marks.keys()),list(student_marks.values()))\nplt.show()",
      "metadata": {
        "trusted": true
      },
      "outputs": [],
      "execution_count": null
    },
    {
      "cell_type": "markdown",
      "source": "### Tuple List Creation:",
      "metadata": {}
    },
    {
      "cell_type": "code",
      "source": "tup = tuple([i**2 for i in range(1,11)])\nplt.scatter(range(1,11),tup)",
      "metadata": {
        "trusted": true
      },
      "outputs": [],
      "execution_count": null
    },
    {
      "cell_type": "markdown",
      "source": "### Remove Duplicates:",
      "metadata": {}
    },
    {
      "cell_type": "code",
      "source": "ls = list(np.random.randint(-5,5,10))\ndef un(ls):\n    s = set(ls)\n    lst = []\n    for i in ls:\n        if i in s:\n            lst.append(i)\n            s.discard(i)\n        else:\n            pass\n    return lst\nt = un(ls)\nmean, median = np.mean(un(ls)), np.median(un(t))",
      "metadata": {
        "trusted": true
      },
      "outputs": [],
      "execution_count": null
    },
    {
      "cell_type": "markdown",
      "source": "### Anagram Finder:",
      "metadata": {}
    },
    {
      "cell_type": "code",
      "source": "s = \"listen\"\ns = ''.join(sorted(list(s)))\nls = [\"enlist\", \"google\", \"inlets\", \"banana\"]\nres=[]\nfor i in ls:\n    if(''.join(sorted(list(i)))==s):\n        res.append(i)\nprint(res)",
      "metadata": {
        "trusted": true
      },
      "outputs": [],
      "execution_count": null
    },
    {
      "cell_type": "code",
      "source": "ls = [1,4,3]\nprint(sorted(ls))",
      "metadata": {
        "trusted": true
      },
      "outputs": [],
      "execution_count": null
    },
    {
      "cell_type": "markdown",
      "source": "### Leap Year Finder",
      "metadata": {}
    },
    {
      "cell_type": "code",
      "source": "yr = int(2016)\nbool = 0\nif yr%4==0:\n    bool = 1\nelif yr%100==0:\n    bool = 0\nelif yr%400==0:\n    bool = 1\nprint(bool)",
      "metadata": {
        "trusted": true
      },
      "outputs": [],
      "execution_count": null
    },
    {
      "cell_type": "markdown",
      "source": "### Grade Calculator",
      "metadata": {}
    },
    {
      "cell_type": "code",
      "source": "gr = int(99)\nls = np.arange(0,101,100/5,dtype='int')\nfor i in range(len(ls)-1):\n    if ls[i]<=gr and ls[i+1]>gr:\n        print(\"ABCDE\"[::-1][i])",
      "metadata": {
        "trusted": true
      },
      "outputs": [],
      "execution_count": null
    },
    {
      "cell_type": "markdown",
      "source": "### Even or Odd",
      "metadata": {}
    },
    {
      "cell_type": "code",
      "source": "a = int(input())%\nprint((a==0)*\"Even\"+a*\"Odd\")",
      "metadata": {
        "trusted": true
      },
      "outputs": [],
      "execution_count": null
    },
    {
      "cell_type": "markdown",
      "source": "### Normalization",
      "metadata": {}
    },
    {
      "cell_type": "code",
      "source": "# raw = np.array([int(i) for i in input().split()])\nraw = np.random(\ns = sum(raw)\nnorm = [float(i)/s for i in raw]\nnorm",
      "metadata": {
        "trusted": true
      },
      "outputs": [],
      "execution_count": null
    },
    {
      "cell_type": "code",
      "source": "raw = np.random.random(100)\ns = sum(raw)\nnorm = [float(i)/s for i in raw]\nplt.plot(range(len(norm)),sorted(norm),'b.-',label=\"Normalized Curve\",mfc='k',mec='k',markersize=3)\nplt.show()\n# plt.plot(range(len(norm)),[np.log(i) for i in sorted(raw)],'k.-',label=\"Raw\")",
      "metadata": {
        "trusted": true
      },
      "outputs": [],
      "execution_count": null
    },
    {
      "cell_type": "markdown",
      "source": "### Basic Stats",
      "metadata": {}
    },
    {
      "cell_type": "code",
      "source": "ls = np.random.randint(-100,100,50)\nmean,median,std = np.mean(ls),np.median(ls),np.std(ls)\nplt.boxplot(ls)\nplt.show()",
      "metadata": {
        "trusted": true
      },
      "outputs": [],
      "execution_count": null
    },
    {
      "cell_type": "markdown",
      "source": "### CSV",
      "metadata": {}
    },
    {
      "cell_type": "code",
      "source": "# with open('file_name.csv') as file:\n    ",
      "metadata": {
        "trusted": true
      },
      "outputs": [],
      "execution_count": null
    },
    {
      "cell_type": "code",
      "source": "ls = list(np.random.randint(0,100,50))\ns = \"1\"\nfor i in ls:\n    s+=\",\"+str(i)\ns",
      "metadata": {
        "trusted": true
      },
      "outputs": [],
      "execution_count": null
    },
    {
      "cell_type": "markdown",
      "source": "### Random Num Generator",
      "metadata": {}
    },
    {
      "cell_type": "code",
      "source": "ls = np.random.randint(0,50,100)\nfile = open('file.txt','w+')\nfor i in ls:\n    file.write(str(i)+'\\n')\nlst = [int(i) for i in file.readlines()]\nmean = np.mean(lst)\nplt.hist(ls,edgecolor='k')\nplt.show()",
      "metadata": {
        "trusted": true
      },
      "outputs": [],
      "execution_count": null
    },
    {
      "cell_type": "markdown",
      "source": "### Word Count and Frequency",
      "metadata": {}
    },
    {
      "cell_type": "code",
      "source": "from collections import counter\nwith open('file.txt') as file:\n    string = file.read().split()\n    num_words = len(string)\n    dic = counter(string)\n    max_word = list(dic.items())[0]\n    plt.bar(dic.items(),dic.keys())",
      "metadata": {
        "trusted": true
      },
      "outputs": [],
      "execution_count": null
    },
    {
      "cell_type": "code",
      "source": "### File Operations",
      "metadata": {
        "trusted": true
      },
      "outputs": [],
      "execution_count": null
    },
    {
      "cell_type": "code",
      "source": "ls = np.random.randint(0,100,100)\nwith open(input(\"Enter filename\"),'w+') as file:\n    for i in ls:\n        file.write(str(i)+\"\\n\")\n    s = sum([int(i) for i in file.readlines()])    ",
      "metadata": {
        "trusted": true
      },
      "outputs": [],
      "execution_count": null
    },
    {
      "cell_type": "markdown",
      "source": "### Set Operations",
      "metadata": {}
    },
    {
      "cell_type": "code",
      "source": "",
      "metadata": {
        "trusted": true
      },
      "outputs": [],
      "execution_count": null
    },
    {
      "cell_type": "markdown",
      "source": "### Word Filtering and Sorting:",
      "metadata": {}
    },
    {
      "cell_type": "code",
      "source": "from collections import Counter\ns= \"Certainly! Here's a paragraph with a varied frequency of words ranging from The sky above was clear, with the sun shining brightly. Birds flew gracefully, and the breeze gently rustled the leaves. People walked through the park, some laughing, some lost in thought. Dogs played happily near the fountain, and children ran excitedly across the grass. The peaceful atmosphere seemed perfect for relaxing. Some visitors sat on benches, enjoying the warmth of the day, while others took photographs of the vibrant flowers. The park was a place where time slowed, offering a brief escape from the busy world. Everyone seemed to appreciate the calm and natural beauty of the surroundings.In this paragraph, some words appear more than others, reflecting the desired frequency range.\"\ns = s.split()\nls = [i for i in s if len(i)>4]\nlst = sorted(ls)\nx = Counter(ls)\n# plt.bar(list(x.keys()),list(x.values()))\nplt.barh(list(x.keys()),list(x.values()))\nplt.yticks(size=5)\ns = list(set(x.values()))\nplt.xticks(ticks=s,labels=s)\nplt.show()",
      "metadata": {
        "trusted": true
      },
      "outputs": [],
      "execution_count": null
    },
    {
      "cell_type": "markdown",
      "source": "### Char Freq",
      "metadata": {}
    },
    {
      "cell_type": "code",
      "source": "from collections import Counter as c\ndef func(s):\n    s = s.lower()\n    dic = c(s)\n    plt.bar(list(dic.keys()),list(dic.values()))\n    return dic\n",
      "metadata": {
        "trusted": true
      },
      "outputs": [],
      "execution_count": null
    },
    {
      "cell_type": "markdown",
      "source": "### Dictionary Merge",
      "metadata": {}
    },
    {
      "cell_type": "code",
      "source": "d1 = {'a': 10, 'b': 20}\nd2 = {'b': 5, 'c': 15}\nx = set(list(d1.keys())+list(d2.keys()))\ndic = {}\nfor i in x:\n    dic[i] = d1.get(i,0)+d2.get(i,0)\n",
      "metadata": {
        "trusted": true
      },
      "outputs": [],
      "execution_count": null
    },
    {
      "cell_type": "markdown",
      "source": "### String Operations",
      "metadata": {}
    },
    {
      "cell_type": "code",
      "source": "def is_vow(s):\n    if s[0].lower() in \"aeiou\":\n        return True\n    return False\nls = [\"apple\"] * 1 + [\"banana\"] * 2 + [\"cherry\"] * 3 + [\"date\"] * 4 + [\"elderberry\"] * 5\nlongest = reduce(lambda a,b: a*(len(a)>len(b))+b*(len(b)>=len(a)),ls)\nnum_vow = reduce(lambda a,b: a + is_vow(b),[1]+ls)\nplt.hist([len(i) for i in ls],edgecolor='k')\nplt.show()",
      "metadata": {
        "trusted": true
      },
      "outputs": [],
      "execution_count": null
    },
    {
      "cell_type": "markdown",
      "source": "### Sort Dictionaries by a key",
      "metadata": {}
    },
    {
      "cell_type": "code",
      "source": "def func(ls,key):\n    res = []\n    dic = {}\n    for i in ls:#ls is list, i is dictionary\n        try:\n            dic[i[key]].append(i)\n        except KeyError:\n            dic[i[key]] = [i]\n    for i in sorted(dic.keys()):\n        res += dic[i]\n    return res",
      "metadata": {
        "trusted": true
      },
      "outputs": [],
      "execution_count": null
    },
    {
      "cell_type": "code",
      "source": "data = [{'name': 'Alice', 'age': 25}, {'name': 'Bob', 'age': 22}]\nfunc(data,'age')",
      "metadata": {
        "trusted": true
      },
      "outputs": [],
      "execution_count": null
    },
    {
      "cell_type": "markdown",
      "source": "### Set Operations",
      "metadata": {}
    },
    {
      "cell_type": "code",
      "source": "from matplotlib_venn import venn2\ndef oper(l1,l2):\n    l1,l2 = set(l1),set(l2)\n    return l1.intersection(l2), l1.union(l2),l1.symmetric_difference(l2)\nvenn2((set([1,2,3,4]),set([2,3,6,7])))",
      "metadata": {
        "trusted": true
      },
      "outputs": [],
      "execution_count": 5
    }
  ]
}